{
 "cells": [
  {
   "cell_type": "markdown",
   "id": "180e9c3c",
   "metadata": {},
   "source": [
    "Please read the Initializing_Step1 notebook first!"
   ]
  },
  {
   "cell_type": "markdown",
   "id": "037babc4",
   "metadata": {},
   "source": [
    "You are now ready to generate BOB waveforms!"
   ]
  },
  {
   "cell_type": "markdown",
   "id": "12d84689",
   "metadata": {},
   "source": [
    "BOB comes in many different flavors so it is important to choose the right one for your needs. See [here](https://github.com/AnujKankani/BackwardsOneBody/wiki/Waveform-Types) for more details"
   ]
  },
  {
   "cell_type": "markdown",
   "id": "df9c77e4",
   "metadata": {},
   "source": [
    "First, we initialize BOB. See the previous notebook for more details"
   ]
  },
  {
   "cell_type": "code",
   "execution_count": null,
   "id": "5c93d856",
   "metadata": {},
   "outputs": [
    {
     "name": "stdout",
     "output_type": "stream",
     "text": [
      "Destination path /home/angel/.cache/qnm/data-0.4.0.tar.bz2 already exists, use overwrite=True to force an overwrite.\n",
      "loading SXS data:  SXS:BBH:2325\n",
      "Loading SXS simulations using latest tag 'v3.0.0', published at 2025-05-14T18:17:30Z.\n",
      "Resampling data to dt =  0.01\n"
     ]
    },
    {
     "ename": "",
     "evalue": "",
     "output_type": "error",
     "traceback": [
      "\u001b[1;31mThe Kernel crashed while executing code in the current cell or a previous cell. \n",
      "\u001b[1;31mPlease review the code in the cell(s) to identify a possible cause of the failure. \n",
      "\u001b[1;31mClick <a href='https://aka.ms/vscodeJupyterKernelCrash'>here</a> for more info. \n",
      "\u001b[1;31mView Jupyter <a href='command:jupyter.viewOutput'>log</a> for further details."
     ]
    }
   ],
   "source": [
    "from gwBOB import BOB_utils\n",
    "\n",
    "BOB = BOB_utils.BOB()\n",
    "BOB.initialize_with_sxs_data(\"SXS:BBH:2325\")"
   ]
  },
  {
   "cell_type": "markdown",
   "id": "7745ed42",
   "metadata": {},
   "source": [
    "The first choice you have to make is what gravitational wave quantity you want BOB to create. The current options are \"psi4\", \"news\", \"news_using_psi4\", \"strain\", \"strain_using_news\", or \"strain_using_psi4\".\n",
    "We can choose what flavor of BOB we want through the parameter what_should_BOB_create. Let's begin by creating BOB for the news"
   ]
  },
  {
   "cell_type": "code",
   "execution_count": 15,
   "id": "4ecefb3a",
   "metadata": {},
   "outputs": [],
   "source": [
    "BOB.what_should_BOB_create = \"news\""
   ]
  },
  {
   "cell_type": "markdown",
   "id": "01cfadfd",
   "metadata": {},
   "source": [
    "By default, BOB will be created from [-50,100] where 0 is the peak time of the underlying NR data. We can change that manually choosing the end points"
   ]
  },
  {
   "cell_type": "code",
   "execution_count": 16,
   "id": "d39cd905",
   "metadata": {},
   "outputs": [],
   "source": [
    "BOB.start_before_tpeak = -75\n",
    "BOB.end_after_tpeak = 125"
   ]
  },
  {
   "cell_type": "markdown",
   "id": "f904ca0d",
   "metadata": {},
   "source": [
    "By default, BOB will take t0 = -infinity, Omega_0 = Omega_ISCO and perform a phase alignment 10M after the peak time. But we can specify if we want things done differently."
   ]
  },
  {
   "cell_type": "markdown",
   "id": "33738ba1",
   "metadata": {},
   "source": [
    "For example, we may want to perform a least squares fit to find the ideal Omega_0 value. \n",
    "Note: If you choose \"news_using_psi4\", \"strain_using_psi4\" or \"strain_using_news\" Omega_0 will be best fit to either psi4 or the news."
   ]
  },
  {
   "cell_type": "code",
   "execution_count": 17,
   "id": "502485cc",
   "metadata": {},
   "outputs": [],
   "source": [
    "BOB.optimize_Omega0 = True"
   ]
  },
  {
   "cell_type": "markdown",
   "id": "3df67842",
   "metadata": {},
   "source": [
    "We may want to change the time of the Phase alignment. "
   ]
  },
  {
   "cell_type": "code",
   "execution_count": 18,
   "id": "d7945fe0",
   "metadata": {},
   "outputs": [],
   "source": [
    "BOB.phase_alignment_time = 50"
   ]
  },
  {
   "cell_type": "markdown",
   "id": "466c60d4",
   "metadata": {},
   "source": [
    "Or we may want to turn off phase alignment off completely"
   ]
  },
  {
   "cell_type": "code",
   "execution_count": 22,
   "id": "a9864a70",
   "metadata": {},
   "outputs": [],
   "source": [
    "BOB.perform_phase_alignment = False"
   ]
  },
  {
   "cell_type": "markdown",
   "id": "d7f13130",
   "metadata": {},
   "source": [
    "Or we may want to perform a least squares fit for both Omega_0 and Phi_0. \n",
    "\n",
    "Note: This should not be used if you choose \"news_using_psi4\", \"strain_using_psi4\" or \"strain_using_news\" since Phi_0 will be best fit to psi4/news."
   ]
  },
  {
   "cell_type": "code",
   "execution_count": 20,
   "id": "46c4766c",
   "metadata": {},
   "outputs": [],
   "source": [
    "BOB.optimize_Omega0_and_Phi0 = True"
   ]
  },
  {
   "cell_type": "markdown",
   "id": "6c1ca67f",
   "metadata": {},
   "source": [
    "Or we may want to choose a finite t0 time. If we set a finite t0 time, Omega_0 will be automatically changed to the NR waveform frequency/m at t0.\n",
    "\n",
    "There are a couple important notes here:\n",
    "1. If we choose a finite t0 time, sometimes the corresponding Omega_0 value will result in the BOB frequency to become imaginary. This will throw an error and the code will exit. \n",
    "2. If you choose a finite t0 time, currently you can not least squares fit the phase alignment. The phase will be aligned at some set time.\n",
    "3. The finite t0 time should be the time away from the peak time. So if we wanted t0 to be 10 M before the peak time, we should enter -10"
   ]
  },
  {
   "cell_type": "code",
   "execution_count": 21,
   "id": "52549e51",
   "metadata": {},
   "outputs": [],
   "source": [
    "BOB.set_initial_time = -10"
   ]
  },
  {
   "cell_type": "markdown",
   "id": "e4e3f7d7",
   "metadata": {},
   "source": [
    "We have now gone over all the different ways you can create BOB. The next waveform will go over how to get the BOB data, as well as additional useful features"
   ]
  }
 ],
 "metadata": {
  "kernelspec": {
   "display_name": "gw_project",
   "language": "python",
   "name": "python3"
  },
  "language_info": {
   "codemirror_mode": {
    "name": "ipython",
    "version": 3
   },
   "file_extension": ".py",
   "mimetype": "text/x-python",
   "name": "python",
   "nbconvert_exporter": "python",
   "pygments_lexer": "ipython3",
   "version": "3.11.13"
  }
 },
 "nbformat": 4,
 "nbformat_minor": 5
}
