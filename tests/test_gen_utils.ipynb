{
 "cells": [
  {
   "cell_type": "code",
   "execution_count": 1,
   "id": "389fbf9c-1ef2-4b33-86ca-103589178ee2",
   "metadata": {},
   "outputs": [],
   "source": [
    "import sxs\n",
    "import qnm\n",
    "from kuibit.timeseries import TimeSeries as kuibit_ts\n",
    "import sys\n",
    "sys.path.append(\"..\")\n",
    "import gen_utils\n",
    "import numpy as np\n",
    "import BOB_utils"
   ]
  },
  {
   "cell_type": "markdown",
   "id": "4005ff99-088c-4fd8-b7c6-b24a9400c715",
   "metadata": {},
   "source": [
    "## 09/22"
   ]
  },
  {
   "cell_type": "code",
   "execution_count": null,
   "id": "17229606-593b-48a0-ac38-c5e1066f42a5",
   "metadata": {
    "jupyter": {
     "source_hidden": true
    }
   },
   "outputs": [],
   "source": [
    "def test_add_positive_numbers():\n",
    "    assert add(2, 3) == 5\n",
    "\n",
    "def test_add_negative_numbers():\n",
    "    assert add(-1, -1) == -2"
   ]
  },
  {
   "cell_type": "code",
   "execution_count": 22,
   "id": "18688da6-5589-43fb-a20e-8bbdcfa262d7",
   "metadata": {
    "jupyter": {
     "source_hidden": true
    }
   },
   "outputs": [],
   "source": [
    "def test_kuibit(fname = 'sxs_cache/cce9/Lev5_rhOverM_BondiCce_R0472.h5', l = 2, m = 0):\n",
    "    try:\n",
    "        fload = sxs.rpdmb.load(fname)\n",
    "    except:\n",
    "        fload = sxs.rpxmb.load(fname)\n",
    "\n",
    "    strain = gen_utils.get_kuibit_lm(fload,l,m)\n",
    "    x_real = strain.real().t\n",
    "    y_real = strain.real().y\n",
    "    y_im = strain.imag().y\n",
    "\n",
    "    # Load reference\n",
    "    ref = np.load(\"trusted_outputs/kuibit_cce9_rhOverM_R0472_l2_m0.npz\")\n",
    "    ref_x = ref[\"x_real\"]\n",
    "    ref_y_real = ref[\"y_real\"]\n",
    "    ref_y_im = ref[\"y_im\"]\n",
    "\n",
    "    return strain, ref_x, ref_y_real, ref_y_im\n",
    "    #     # Compare arrays\n",
    "    # np.testing.assert_allclose(x_real, ref_x, rtol=1e-12, atol=1e-15)\n",
    "    # np.testing.assert_allclose(y_real, ref_y_real, rtol=1e-12, atol=1e-15)\n",
    "    # np.testing.assert_allclose(y_im, ref_y_im, rtol=1e-12, atol=1e-15)"
   ]
  },
  {
   "cell_type": "code",
   "execution_count": 44,
   "id": "42ae41fa-8335-433e-a241-34f8de4cbc08",
   "metadata": {},
   "outputs": [],
   "source": [
    "def kuibit_lm_saver(fname = 'sxs_cache/cce9/Lev5_rhOverM_BondiCce_R0472.h5', location =\"trusted_outputs/kuibit_cce9_rhOverM_R0472_l2_m0.npz\",  l = 2 , m = 0):\n",
    "    try:\n",
    "        fload = sxs.rpdmb.load(fname)\n",
    "    except:\n",
    "        fload = sxs.rpxmb.load(fname)\n",
    "\n",
    "    strain = gen_utils.get_kuibit_lm(fload,l,m)\n",
    "    x_real = strain.real().t\n",
    "    y_real = strain.real().y\n",
    "    y_im = strain.imag().y\n",
    "\n",
    "    np.savez(location,\n",
    "    x_real=x_real,\n",
    "    y_real=y_real,\n",
    "    y_im=y_im\n",
    ")\n",
    "    return \n",
    "\n"
   ]
  },
  {
   "cell_type": "code",
   "execution_count": null,
   "id": "5af3d643-5f58-4ae1-b3d5-7abbf474a921",
   "metadata": {
    "jupyter": {
     "source_hidden": true
    }
   },
   "outputs": [],
   "source": [
    "def find_nearest_index(array, value):\n",
    "    array = np.asarray(array)\n",
    "    idx = (np.abs(array - value)).argmin()\n",
    "    return idx\n",
    "def get_kuibit_lm(w,l,m):\n",
    "    index = w.index(l, m)\n",
    "    w_temp = w.data[:,index]\n",
    "    time = w.t\n",
    "    return kuibit_ts(time,w_temp)\n",
    "def get_kuibit_lm_psi4(w,l,m):\n",
    "    index = w.index(l, m)\n",
    "    w_temp = w[:,index].ndarray\n",
    "    time = w.t\n",
    "    return kuibit_ts(time,w_temp)\n",
    "def get_kuibit_frequency_lm(w,l,m):\n",
    "    ts = get_kuibit_lm_psi4(w,l,m)\n",
    "    #returns the time derivative of np.unwrap(np.angle(w.y))\n",
    "    ts_temp = ts.phase_angular_velocity()\n",
    "    #want positive\n",
    "    return kuibit_ts(ts_temp.t,-ts_temp.y)\n",
    "def get_phase(ts):\n",
    "    y = np.unwrap(np.angle(ts.y))\n",
    "    #we want to make sure the phase is positive near merger so this how we check for now\n",
    "    #TODO: make this better\n",
    "    if(y[-1]<0):\n",
    "        y = -y\n",
    "    return kuibit_ts(ts.t,y)\n",
    "def get_frequency(ts):\n",
    "    tp = ts.time_at_maximum()\n",
    "    freq = ts.phase_angular_velocity()\n",
    "    if(freq.y[find_nearest_index(freq.t,tp)]<0):\n",
    "        freq.y = -freq.y\n",
    "    return kuibit_ts(ts.t,freq.y)\n",
    "def get_r_isco(chi,M):\n",
    "    #Bardeen Press Teukolskly eq 2.21\n",
    "    #defined for prograde orbits\n",
    "    a = chi*M\n",
    "    a_M = a/M\n",
    "\n",
    "    z1 = 1 + (((1-a_M**2)**(1./3.)) * ((1+a_M)**(1./3.) + (1-a_M)**(1./3.))) #good\n",
    "    z2 = (3*(a_M**2) + z1**2)**0.5 #good\n",
    "    r_isco = M * (3 + z2 - ((3-z1)*(3+z1+2*z2))**0.5) #good\n",
    "    return r_isco"
   ]
  },
  {
   "cell_type": "code",
   "execution_count": 45,
   "id": "858fe30b-0973-46ae-b257-4731e0b68ae9",
   "metadata": {},
   "outputs": [],
   "source": [
    "location = \"trusted_outputs/kuibit_cce9_rhOverM_R0472_freq_l2_m2.npz\"\n",
    "try:\n",
    "    fload = sxs.rpdmb.load('sxs_cache/cce9/Lev5_rMPsi4_BondiCce_R0472.h5')\n",
    "except:\n",
    "    fload = sxs.rpxmb.load('sxs_cache/cce9/Lev5_rMPsi4_BondiCce_R0472.h5')\n",
    "strain = gen_utils.get_kuibit_frequency_lm(fload,2,2)\n",
    "x_real = strain.real().t\n",
    "y_real = strain.real().y\n",
    "y_im = strain.imag().y\n",
    "\n",
    "np.savez(location,\n",
    "    x_real=x_real,\n",
    "    y_real=y_real,\n",
    "    y_im=y_im)\n"
   ]
  },
  {
   "cell_type": "code",
   "execution_count": 74,
   "id": "20844b8b-ba26-4497-a88e-8c3abea46fc7",
   "metadata": {},
   "outputs": [
    {
     "data": {
      "text/plain": [
       "array([  0.41171014,   0.41558122,   0.41863859, ..., 378.09239897,\n",
       "       378.09669697, 378.10109021])"
      ]
     },
     "execution_count": 74,
     "metadata": {},
     "output_type": "execute_result"
    }
   ],
   "source": [
    "\n",
    "try:\n",
    "    fload = sxs.rpdmb.load('sxs_cache/cce9/Lev5_rMPsi4_BondiCce_R0472.h5')\n",
    "except:\n",
    "    fload = sxs.rpxmb.load('sxs_cache/cce9/Lev5_rMPsi4_BondiCce_R0472.h5')\n",
    "strain = gen_utils.get_kuibit_lm(fload,2,2)\n",
    "# x_real = strain.real().t\n",
    "# y_real = strain.real().y\n",
    "# y_im = strain.imag().y\n",
    "\n",
    "y_real"
   ]
  },
  {
   "cell_type": "code",
   "execution_count": 75,
   "id": "c6b8dd5c-5a3c-4e92-bd35-5685f97a6bb2",
   "metadata": {},
   "outputs": [],
   "source": [
    "ts = gen_utils.get_phase(strain)\n",
    "\n",
    "x_real = ts.real().t\n",
    "y_real = ts.real().y\n",
    "y_im = ts.imag().y\n",
    "\n",
    "location = \"trusted_outputs/kuibit_cce9_rhOverM_R0472_get_phase_l2_m2.npz\"\n",
    "np.savez(location,\n",
    "    x_real=x_real,\n",
    "    y_real=y_real,\n",
    "    y_im=y_im)"
   ]
  },
  {
   "cell_type": "code",
   "execution_count": 47,
   "id": "dc1150bb-3fb8-4d12-94af-4c6e1e6c862a",
   "metadata": {},
   "outputs": [],
   "source": [
    "location = \"trusted_outputs/kuibit_cce9_rhOverM_R0472_get_phase_l2_m2.npz\"\n",
    "ref = np.load(location)"
   ]
  },
  {
   "cell_type": "code",
   "execution_count": null,
   "id": "75df3723-ae56-4ba5-8d26-712e89525813",
   "metadata": {},
   "outputs": [],
   "source": [
    "def get_qnm(chif,Mf,l,m,n=0,sign=1):\n",
    "    #omega_qnm, all_C, ells = qnmfits.read_qnms.qnm_from_tuple((l,m,n,1),chif,M=M)\n",
    "    if(sign==-1):\n",
    "        grav_lmn = qnm.modes_cache(s=-2,l=l,m=-m,n=n)\n",
    "        omega_qnm, A, C = grav_lmn(a=chif)#qnm package uses M = 1 so a = chi here\n",
    "        omega_qnm = -np.conj(omega_qnm)\n",
    "    else:\n",
    "        grav_lmn = qnm.modes_cache(s=-2,l=l,m=m,n=n)\n",
    "        omega_qnm, A, C = grav_lmn(a=chif)#qnm package uses M = 1 so a = chi here\n",
    "    omega_qnm /= Mf #rescale to remnant black hole mass\n",
    "    w_r = np.abs(omega_qnm.real)\n",
    "    imag_qnm = np.abs(omega_qnm.imag)\n",
    "    tau = 1./imag_qnm\n",
    "    return w_r,tau"
   ]
  },
  {
   "cell_type": "code",
   "execution_count": 90,
   "id": "4d0a7518-0b44-445a-a62e-4dec38f477f0",
   "metadata": {},
   "outputs": [
    {
     "data": {
      "text/plain": [
       "(0.37367168441804177, 11.24071459084527)"
      ]
     },
     "execution_count": 90,
     "metadata": {},
     "output_type": "execute_result"
    }
   ],
   "source": [
    "gen_utils.get_Omega_isco(0.9, 5.0)\n",
    "gen_utils.get_qnm(0.0, 1.0, 2, 2)\n",
    "gen_utils.get_qnm(0.0, 1.0, 3, 2)\n",
    "gen_utils.get_qnm(0.0, 1.0, 2, 2, n = 1)\n",
    "gen_utils.get_qnm(0.5, 1.0, 2, 2, sign = -1)\n",
    "gen_utils.get_qnm(0.5, 1.0, 2, 2, sign = 1)\n",
    "gen_utils.get_qnm(0.5, 2.0, 2, 2, sign = 1)"
   ]
  },
  {
   "cell_type": "code",
   "execution_count": 80,
   "id": "88d7edf1-db33-4a75-adaf-d1037e6ff736",
   "metadata": {},
   "outputs": [],
   "source": [
    "ts = gen_utils.get_frequency(strain)\n",
    "\n",
    "x_real = ts.real().t\n",
    "y_real = ts.real().y\n",
    "y_im = ts.imag().y\n",
    "\n",
    "location = \"trusted_outputs/kuibit_cce9_rhOverM_R0472_get_frequency_l2_m2.npz\"\n",
    "np.savez(location,\n",
    "    x_real=x_real,\n",
    "    y_real=y_real,\n",
    "    y_im=y_im)"
   ]
  },
  {
   "cell_type": "markdown",
   "id": "6bc162fd-54a7-468c-9e2e-d44354b71b03",
   "metadata": {},
   "source": [
    "## 09/29"
   ]
  },
  {
   "cell_type": "code",
   "execution_count": 4,
   "id": "00eef258-0a85-4e0d-ba67-34635769cba6",
   "metadata": {},
   "outputs": [],
   "source": [
    "def psi4_h5():\n",
    "    fname = 'sxs_cache/cce9/Lev5_rMPsi4_BondiCce_R0472.h5'\n",
    "    try:\n",
    "        fload = sxs.rpdmb.load(fname)\n",
    "    except:\n",
    "        fload = sxs.rpxmb.load(fname)\n",
    "    return fload\n",
    "def psi4_ts(psi4_h5):\n",
    "    ts = gen_utils.get_kuibit_lm(psi4_h5,2,2)\n",
    "    return ts"
   ]
  },
  {
   "cell_type": "code",
   "execution_count": 5,
   "id": "07a2b0b7-f88d-43f6-bdec-7c63d30c2aa3",
   "metadata": {},
   "outputs": [],
   "source": [
    "ts_psi4 = psi4_ts(psi4_h5())\n",
    "amp = np.abs(ts_psi4)"
   ]
  },
  {
   "cell_type": "code",
   "execution_count": 7,
   "id": "e5ef0154-2952-45d7-a5b3-70ec5a8306ee",
   "metadata": {},
   "outputs": [
    {
     "data": {
      "text/plain": [
       "(5147.456847890223, 0.058162818007723834)"
      ]
     },
     "execution_count": 7,
     "metadata": {},
     "output_type": "execute_result"
    }
   ],
   "source": [
    "gen_utils.get_tp_Ap_from_spline(amp)"
   ]
  },
  {
   "cell_type": "code",
   "execution_count": 120,
   "id": "86e6d612-dc69-460d-820d-a1882c9b9ded",
   "metadata": {},
   "outputs": [
    {
     "data": {
      "image/png": "[encoded data removed]",
      "text/plain": [
       "<Figure size 640x480 with 1 Axes>"
      ]
     },
     "metadata": {},
     "output_type": "display_data"
    }
   ],
   "source": [
    "import matplotlib.pyplot as plt\n",
    "\n",
    "plt.plot(ts2.t,ts2.y,label='BOB')\n",
    "plt.xlim(5100,5200)\n",
    "plt.xlabel('time')\n",
    "plt.ylabel('amp')\n",
    "plt.legend()\n",
    "plt.show()"
   ]
  },
  {
   "cell_type": "code",
   "execution_count": 59,
   "id": "ad72a420-cfc1-4564-9708-794eb360a909",
   "metadata": {},
   "outputs": [
    {
     "name": "stdout",
     "output_type": "stream",
     "text": [
      "Destination path /home/chrosmic/.cache/qnm/data-0.4.0.tar.bz2 already exists, use overwrite=True to force an overwrite.\n"
     ]
    }
   ],
   "source": [
    "BOB = BOB_utils.BOB()\n",
    "BOB.initialize_with_NR_psi4_data(t = ts_psi4.t, y = ts_psi4.y, mf = 0.949435238357, chif = (-1.10929877907e-08,\n",
    "        3.32552069179e-09,\n",
    "        0.678561988326))\n",
    "BOB.what_should_BOB_create = \"psi4\"\n",
    "BOB.optimize_Omega0_and_Phi0 = True"
   ]
  },
  {
   "cell_type": "code",
   "execution_count": 60,
   "id": "6836aff2-bd4b-4fbe-a533-bcd45844b25c",
   "metadata": {},
   "outputs": [],
   "source": [
    "def save_bob_attributes(BOB, filename):\n",
    "    \"\"\"\n",
    "    Save the physically important BOB parameters to a .npz file.\n",
    "    \"\"\"\n",
    "    attrs_to_save = {\n",
    "        \"mf\": BOB.mf,\n",
    "        \"chif\": np.array(BOB.chif),\n",
    "        \"l\": BOB.l,\n",
    "        \"m\": BOB.m,\n",
    "        \"Ap\": BOB.Ap,\n",
    "        \"tp\": BOB.tp,\n",
    "        \"Omega_0\": BOB.Omega_0,\n",
    "        \"Phi_0\": BOB.Phi_0,\n",
    "        \"tau\": BOB.tau,\n",
    "        \"Omega_ISCO\": BOB.Omega_ISCO,\n",
    "        \"what_should_BOB_create\": getattr(BOB, \"what_should_BOB_create\", None),\n",
    "        \"optimize_Omega0_and_Phi0\": getattr(BOB, \"optimize_Omega0_and_Phi0\", None),\n",
    "    }\n",
    "\n",
    "    np.savez(filename, **attrs_to_save)\n",
    "    print(f\"[INFO] Saved BOB parameters to {filename}\")"
   ]
  },
  {
   "cell_type": "code",
   "execution_count": 62,
   "id": "99b20cc5-b9be-4e20-9042-b4b4b75b3ac2",
   "metadata": {},
   "outputs": [
    {
     "name": "stdout",
     "output_type": "stream",
     "text": [
      "[INFO] Saved BOB parameters to trusted_outputs/BOB_NR_CCE9_psi4.npz\n"
     ]
    }
   ],
   "source": [
    "save_bob_attributes(BOB, \"trusted_outputs/BOB_NR_CCE9_psi4.npz\")"
   ]
  },
  {
   "cell_type": "code",
   "execution_count": 9,
   "id": "2b2b8939-dab2-42a5-b848-3f359841f6b7",
   "metadata": {},
   "outputs": [
    {
     "name": "stderr",
     "output_type": "stream",
     "text": [
      "/home/chrosmic/.local/lib/python3.10/site-packages/matplotlib/cbook.py:1709: ComplexWarning: Casting complex values to real discards the imaginary part\n",
      "  return math.isfinite(val)\n",
      "/home/chrosmic/.local/lib/python3.10/site-packages/matplotlib/cbook.py:1345: ComplexWarning: Casting complex values to real discards the imaginary part\n",
      "  return np.asarray(x, float)\n"
     ]
    },
    {
     "data": {
      "image/png": "[encoded data removed]",
      "text/plain": [
       "<Figure size 640x480 with 1 Axes>"
      ]
     },
     "metadata": {},
     "output_type": "display_data"
    }
   ],
   "source": [
    "t_bob, y_bob = BOB.construct_BOB()\n",
    "ts = BOB.psi4_data\n",
    "\n",
    "import matplotlib.pyplot as plt\n",
    "plt.plot(t_bob,y_bob,label='BOB')\n",
    "plt.plot(ts.t,ts.y,label='BOB')\n",
    "plt.xlim(5100,5200)\n",
    "plt.xlabel('time')\n",
    "plt.ylabel('amp')\n",
    "plt.legend()\n",
    "plt.show()"
   ]
  },
  {
   "cell_type": "code",
   "execution_count": 46,
   "id": "62c1aa87-92f1-4896-9f9f-adba5bc5ae7c",
   "metadata": {},
   "outputs": [],
   "source": [
    "location = \"trusted_outputs/cce9_psi4_ts.npz\"\n",
    "timeseries = {\n",
    "    \"BOB\": ts_BOB,\n",
    "    \"SXS\": ts_psi4,\n",
    "}\n",
    "def kuibit_ts_save(timeseries, location):\n",
    "    # timeseries is an dictionary of kuibit timeseries\n",
    "    # location is the relative path\n",
    "    arrays_to_save = {}\n",
    "    for name, ts in timeseries.items():\n",
    "        # Store both time and data arrays under unique keys\n",
    "        arrays_to_save[f\"{name}_t\"] = ts.t\n",
    "        arrays_to_save[f\"{name}_y\"] = ts.y\n",
    "    np.savez(location, **arrays_to_save)\n",
    "    return \n",
    "def kuibit_ts_load(location):\n",
    "    data = np.load(location)\n",
    "    timeseries = {}\n",
    "    for key in data.files:\n",
    "        if key.endswith(\"_t\"):\n",
    "            name = key[:-2]\n",
    "            t = data[f\"{name}_t\"]\n",
    "            y = data[f\"{name}_y\"]\n",
    "            timeseries[name] = kuibit_ts(t, y)\n",
    "    return timeseries\n"
   ]
  },
  {
   "cell_type": "code",
   "execution_count": 66,
   "id": "7c20851b-f0d5-436a-9a2f-25233943234b",
   "metadata": {},
   "outputs": [],
   "source": [
    "ts_BOB = kuibit_ts(t_bob, y_bob)"
   ]
  },
  {
   "cell_type": "code",
   "execution_count": 67,
   "id": "e5f663ba-24c0-4443-881f-bd4099acc2bf",
   "metadata": {},
   "outputs": [
    {
     "data": {
      "text/plain": [
       "array([5072.45684789, 5072.55684789, 5072.65684789, ..., 5247.15684789,\n",
       "       5247.25684789, 5247.35684789])"
      ]
     },
     "execution_count": 67,
     "metadata": {},
     "output_type": "execute_result"
    }
   ],
   "source": [
    "ts_BOB.t"
   ]
  },
  {
   "cell_type": "code",
   "execution_count": 64,
   "id": "e8fa3288-a5e5-455c-ab57-9d6ae1b2ffcd",
   "metadata": {},
   "outputs": [
    {
     "data": {
      "text/plain": [
       "array([5072.45684789, 5072.55684789, 5072.65684789, ..., 5247.15684789,\n",
       "       5247.25684789, 5247.35684789])"
      ]
     },
     "execution_count": 64,
     "metadata": {},
     "output_type": "execute_result"
    }
   ],
   "source": [
    "ts_BOB.t"
   ]
  },
  {
   "cell_type": "code",
   "execution_count": 65,
   "id": "ec168986-1e02-4106-ab0e-70306713c904",
   "metadata": {},
   "outputs": [
    {
     "data": {
      "text/plain": [
       "array([2.60200581e-02, 1.04149257e-01, 1.82278522e-01, ...,\n",
       "       5.49718646e+03, 5.49726458e+03, 5.49734270e+03])"
      ]
     },
     "execution_count": 65,
     "metadata": {},
     "output_type": "execute_result"
    }
   ],
   "source": [
    "ts_SXS.t"
   ]
  },
  {
   "cell_type": "code",
   "execution_count": 49,
   "id": "dcd6334e-0b10-4525-9309-84f16d25f7ef",
   "metadata": {},
   "outputs": [],
   "source": [
    "ts_BOB, ts_SXS = kuibit_ts_load(location)['BOB'], kuibit_ts_load(location)['SXS']"
   ]
  },
  {
   "cell_type": "code",
   "execution_count": 35,
   "id": "78761f30-ccac-475c-8e05-88d34f6ff7aa",
   "metadata": {},
   "outputs": [
    {
     "data": {
      "text/plain": [
       "<kuibit.timeseries.TimeSeries at 0x7369c4807ca0>"
      ]
     },
     "execution_count": 35,
     "metadata": {},
     "output_type": "execute_result"
    }
   ],
   "source": [
    "for ts in timeseries:\n",
    "    print"
   ]
  },
  {
   "cell_type": "code",
   "execution_count": 141,
   "id": "9f391d4a-a119-4a97-aa24-36a1fc48d461",
   "metadata": {},
   "outputs": [
    {
     "data": {
      "text/plain": [
       "array([1.87379388e-04-8.18221920e-05j, 1.88919977e-04-8.33671644e-05j,\n",
       "       1.90563233e-04-8.47893242e-05j, ...,\n",
       "       1.12458946e-10-2.21656485e-10j, 1.11331911e-10-2.21792504e-10j,\n",
       "       1.10182575e-10-2.21929246e-10j])"
      ]
     },
     "execution_count": 141,
     "metadata": {},
     "output_type": "execute_result"
    }
   ],
   "source": [
    "ts_psi4.y"
   ]
  },
  {
   "cell_type": "code",
   "execution_count": 11,
   "id": "9677865f-1651-4532-8d3c-92f5b289019b",
   "metadata": {},
   "outputs": [
    {
     "name": "stdout",
     "output_type": "stream",
     "text": [
      "0j\n",
      "0.0\n",
      "0.0\n"
     ]
    },
    {
     "name": "stderr",
     "output_type": "stream",
     "text": [
      "/mnt/c/users/chros/documents/github/BackwardsOneBody/tests/../gen_utils.py:131: RuntimeWarning: invalid value encountered in scalar divide\n",
      "  max_mismatch = (np.abs(numerator)/np.sqrt(denominator1*denominator2))\n"
     ]
    },
    {
     "data": {
      "text/plain": [
       "nan"
      ]
     },
     "execution_count": 11,
     "metadata": {},
     "output_type": "execute_result"
    }
   ],
   "source": [
    "gen_utils.mismatch(ts_BOB, ts_psi4, t0 = 5147, tf = 5200)"
   ]
  },
  {
   "cell_type": "code",
   "execution_count": 54,
   "id": "fed6b170-3819-4679-8917-e61d0489539d",
   "metadata": {},
   "outputs": [],
   "source": [
    "def mismatch(model_data, NR_data, t0, tf,\n",
    "             use_trapz=False,\n",
    "             resample_NR_to_model=True,\n",
    "             return_best_phi0=False):\n",
    "    # simple mismatch function\n",
    "    from quaternion.calculus import spline_definite_integral as sdi\n",
    "    from numpy import trapz\n",
    "    if not np.array_equal(model_data.t, NR_data.t):\n",
    "        if resample_NR_to_model:\n",
    "            NR_data = NR_data.resampled(model_data.t)\n",
    "        else:\n",
    "            raise ValueError(\"Time arrays must be identical or set resample_NR_to_model to True\")\n",
    "    \n",
    "    peak_time = NR_data.time_at_maximum()\n",
    "\n",
    "    dx = model_data.t[1] - model_data.t[0]\n",
    "\n",
    "    if use_trapz:\n",
    "        NR_data = NR_data.cropped(init=peak_time+t0, end=peak_time+tf)\n",
    "        model_data = model_data.cropped(init=peak_time+t0, end=peak_time+tf)\n",
    "\n",
    "    # Numerator\n",
    "    numerator_integrand = np.conj(model_data.y) * NR_data.y\n",
    "    if not use_trapz:\n",
    "        numerator = sdi(numerator_integrand, model_data.t, peak_time+t0, peak_time+tf)\n",
    "    else:\n",
    "        numerator = trapz(numerator_integrand, model_data.t)\n",
    "\n",
    "    # Denominator 1\n",
    "    denominator1_integrand = np.conj(model_data.y) * model_data.y\n",
    "    if not use_trapz:\n",
    "        denominator1 = np.real(sdi(denominator1_integrand, model_data.t, peak_time+t0, peak_time+tf))\n",
    "    else:\n",
    "        denominator1 = np.real(trapz(denominator1_integrand, model_data.t))\n",
    "\n",
    "    # Denominator 2\n",
    "    denominator2_integrand = np.conj(NR_data.y) * NR_data.y\n",
    "    if not use_trapz:\n",
    "        denominator2 = np.real(sdi(denominator2_integrand, NR_data.t, peak_time+t0, peak_time+tf))\n",
    "    else:\n",
    "        denominator2 = np.real(trapz(denominator2_integrand, NR_data.t))\n",
    "\n",
    "    # Check for potential divide-by-zero\n",
    "    if denominator1 == 0 or denominator2 == 0:\n",
    "        print(\"[ERROR] One of the denominators is zero! denominator1 =\", denominator1, \"denominator2 =\", denominator2)\n",
    "\n",
    "    # Maximized overlap when numerator = |numerator|\n",
    "    max_mismatch = (np.abs(numerator) / np.sqrt(denominator1 * denominator2))\n",
    "\n",
    "    best_phi0 = -np.angle(numerator)\n",
    "\n",
    "    if return_best_phi0:\n",
    "        return 1. - max_mismatch, best_phi0\n",
    "    return 1. - max_mismatch\n",
    "def time_grid_mismatch(model, NR_data, t0, tf, resample_NR_to_model=True,\n",
    "                           t_shift_range=np.arange(-10,10,0.1),return_best_t_and_phi0=False):\n",
    "    min_mismatch = np.inf\n",
    "    def mismatch_search(t_shift_range,min_mismatch):\n",
    "        best_t_shift = 0\n",
    "        best_phi0 = 0 \n",
    "        for t_shift in t_shift_range:\n",
    "            model_ = kuibit_ts(model.t + t_shift,model.y)\n",
    "            if(return_best_t_and_phi0):\n",
    "                mismatch_val,phi0 = mismatch(model_,NR_data,t0,tf,use_trapz=True,resample_NR_to_model=resample_NR_to_model,return_best_phi0=True)\n",
    "            else:\n",
    "                mismatch_val = mismatch(model_,NR_data,t0,tf,use_trapz=True,resample_NR_to_model=resample_NR_to_model)\n",
    "            if mismatch_val < min_mismatch:\n",
    "                min_mismatch = mismatch_val\n",
    "                best_t_shift = t_shift\n",
    "                if(return_best_t_and_phi0):\n",
    "                    best_phi0 = phi0\n",
    "\n",
    "        if(return_best_t_and_phi0):\n",
    "            return min_mismatch,best_t_shift,best_phi0\n",
    "        return min_mismatch,best_t_shift\n",
    "    \n",
    "    if(return_best_t_and_phi0):\n",
    "        min_mismatch,best_t_shift,best_phi0 = mismatch_search(t_shift_range,min_mismatch)\n",
    "    else:\n",
    "        min_mismatch,best_t_shift = mismatch_search(t_shift_range,min_mismatch)\n",
    "\n",
    "    t_shift_range = np.arange(best_t_shift-0.2,best_t_shift+0.2,0.01)\n",
    "    if(return_best_t_and_phi0):\n",
    "        min_mismatch,best_t_shift,best_phi0 = mismatch_search(t_shift_range,min_mismatch)\n",
    "        return min_mismatch,best_t_shift,best_phi0\n",
    "    else:\n",
    "        min_mismatch,best_t_shift = mismatch_search(t_shift_range,min_mismatch)\n",
    "        return min_mismatch"
   ]
  },
  {
   "cell_type": "code",
   "execution_count": 57,
   "id": "70c55b5e-c681-4903-8716-735931fc7baf",
   "metadata": {
    "jupyter": {
     "source_hidden": true
    }
   },
   "outputs": [],
   "source": [
    "def estimate_parameters(BOB,\n",
    "                        mf_guess=0.95,\n",
    "                        chif_guess=0.5,\n",
    "                        Omega0_guess=0.155,\n",
    "                        t0=0,\n",
    "                        tf=75,\n",
    "                        force_Omega0_optimization=False,\n",
    "                        NR_data=None,\n",
    "                        make_current_naturally=False,\n",
    "                        make_mass_naturally=False,\n",
    "                        include_Omega0_as_parameter=False,\n",
    "                        include_2Omega0_as_parameters=False,\n",
    "                        perform_phase_alignment_first=False,\n",
    "                        start_with_wide_search = False,\n",
    "                        t_shift_range=np.arange(-10,10,0.1)):\n",
    "\n",
    "    if(force_Omega0_optimization and include_Omega0_as_parameter):\n",
    "        raise ValueError(\"force_Omega0_optimization and include_Omega0_as_parameter cannot both be True\")\n",
    "    if(make_current_naturally is True and make_mass_naturally is True):\n",
    "        raise ValueError(\"make_current_naturally and make_mass_naturally cannot both be True\")\n",
    "    if((force_Omega0_optimization and include_2Omega0_as_parameters) or (force_Omega0_optimization and include_Omega0_as_parameter)):\n",
    "        raise ValueError(\"force_Omega0_optimization and include_2Omega0_as_parameters cannot both be True\")\n",
    "    if(include_2Omega0_as_parameters is True and include_Omega0_as_parameter is False):\n",
    "        raise ValueError(\"include_2Omega0_as_parameters is True and include_Omega0_as_parameter is False\")\n",
    "    #store BOB parameters\n",
    "    old_mf = BOB.mf\n",
    "    old_chif = BOB.chif\n",
    "    old_chif_with_sign = BOB.chif_with_sign\n",
    "    old_Omega0 = BOB.Omega_0\n",
    "    #we use a scipy optimizer to find the best mass and spin\n",
    "    if(BOB.what_should_BOB_create==\"psi4\"):\n",
    "        #Psi4\n",
    "        A = 1.42968337\n",
    "        B = 0.08424419\n",
    "        C = -1.22848524\n",
    "        NR_ts = BOB.psi4_data\n",
    "    if(BOB.what_should_BOB_create==\"news\"):\n",
    "        #News\n",
    "        A = 0.33568227\n",
    "        B = 0.03450997\n",
    "        C = -0.18763176  \n",
    "        NR_ts = BOB.news_data\n",
    "        \n",
    "    if(NR_data is not None):\n",
    "        NR_ts = NR_data\n",
    "    \n",
    "    def create_guess(x):\n",
    "        #print(\"trying\",x)\n",
    "        mf = x[0]\n",
    "        chif = x[1]\n",
    "        if(include_Omega0_as_parameter):\n",
    "            lm_Omega0_guess = x[2]\n",
    "        if(include_2Omega0_as_parameters):\n",
    "            lmm_Omega0_guess = x[3]\n",
    "        BOB.fit_failed = False\n",
    "        BOB.mf = mf\n",
    "        BOB.chif_with_sign = chif\n",
    "        BOB.chif = np.abs(chif)\n",
    "        if(force_Omega0_optimization):\n",
    "            BOB.optimize_Omega0 = True\n",
    "            BOB.start_fit_before_tpeak = t0\n",
    "            BOB.end_fit_after_tpeak = tf\n",
    "        else:\n",
    "            BOB.optimize_Omega0 = False\n",
    "            BOB.Omega_0 = A*BOB.mf + B*BOB.chif_with_sign + C \n",
    "\n",
    "        if(include_Omega0_as_parameter):\n",
    "            #keep this for ordinary (l,m) &(l,-m) modes\n",
    "            BOB.Omega_0 = lm_Omega0_guess\n",
    "        w_r,tau = get_qnm(BOB.chif,BOB.mf,BOB.l,np.abs(BOB.m),sign=np.sign(BOB.chif_with_sign))\n",
    "        BOB.Omega_QNM = w_r/np.abs(BOB.m)\n",
    "        BOB.Phi_0 = 0\n",
    "        BOB.tau = tau\n",
    "        BOB.t_tp_tau = (BOB.t - BOB.tp)/BOB.tau\n",
    "        try:\n",
    "            if(make_current_naturally is False and make_mass_naturally is False):\n",
    "                t,y = BOB.construct_BOB()\n",
    "            elif(make_current_naturally):\n",
    "                if(include_2Omega0_as_parameters):\n",
    "                    t,y = BOB.construct_BOB_current_quadrupole_naturally(perform_phase_alignment_first=perform_phase_alignment_first,lm_Omega0=lm_Omega0_guess,lmm_Omega0=lmm_Omega0_guess)\n",
    "                elif(include_Omega0_as_parameter):\n",
    "                    t,y = BOB.construct_BOB_current_quadrupole_naturally(perform_phase_alignment_first=perform_phase_alignment_first,lm_Omega0=lm_Omega0_guess)\n",
    "                else:\n",
    "                    t,y = BOB.construct_BOB_current_quadrupole_naturally(perform_phase_alignment_first=perform_phase_alignment_first)\n",
    "            elif(make_mass_naturally):\n",
    "                if(include_2Omega0_as_parameters):\n",
    "                    t,y = BOB.construct_BOB_mass_quadrupole_naturally(perform_phase_alignment_first=perform_phase_alignment_first,lm_Omega0=lm_Omega0_guess,lmm_Omega0=lmm_Omega0_guess)\n",
    "                elif(include_Omega0_as_parameter):  \n",
    "                    t,y = BOB.construct_BOB_mass_quadrupole_naturally(perform_phase_alignment_first=perform_phase_alignment_first,lm_Omega0=lm_Omega0_guess)\n",
    "                else:\n",
    "                    t,y = BOB.construct_BOB_mass_quadrupole_naturally(perform_phase_alignment_first=perform_phase_alignment_first)\n",
    "            else:\n",
    "                raise ValueError(\"Invalid options for make_current_naturally and make_mass_naturally\")\n",
    "            BOB_ts = kuibit_ts(t,y)\n",
    "            if(BOB.fit_failed):\n",
    "                print(\"fit failed for \",x)\n",
    "                mismatch = np.inf\n",
    "            else:\n",
    "                #print(\"fit worked for \",x)\n",
    "                mismatch = time_grid_mismatch(BOB_ts,NR_ts,t0,tf,t_shift_range=t_shift_range)\n",
    "        except Exception as e:\n",
    "            mismatch = np.inf\n",
    "            print(e)\n",
    "            print(\"Search failed for \",x)\n",
    "        return mismatch\n",
    "    #we use nelder-mead because the mismatch can return infinity, causing problems with derivatives\n",
    "    if(include_2Omega0_as_parameters):\n",
    "        if(start_with_wide_search):\n",
    "            out = differential_evolution(create_guess,bounds = [(0.8, 0.999), (-0.999,0.999), (0+1e-10,BOB.Omega_QNM-1e-10),(0+1e-10,BOB.Omega_QNM-1e-10)])\n",
    "            out = minimize(create_guess,out.x,bounds = [(0.8, 0.999), (-0.999,0.999), (0+1e-10,BOB.Omega_QNM-1e-10),(0+1e-10,BOB.Omega_QNM-1e-10)],method='Nelder-Mead')\n",
    "        else:\n",
    "            out = minimize(create_guess,(mf_guess,chif_guess,Omega0_guess,Omega0_guess),bounds = [(0.8, 0.999), (-0.999,0.999), (0+1e-10,BOB.Omega_QNM-1e-10),(0+1e-10,BOB.Omega_QNM-1e-10)],method='Nelder-Mead')\n",
    "    elif(include_Omega0_as_parameter):\n",
    "        if(start_with_wide_search):\n",
    "            out = differential_evolution(create_guess,bounds = [(0.8, 0.999), (-0.999,0.999), (0+1e-10,BOB.Omega_QNM-1e-10)])\n",
    "            out = minimize(create_guess,out.x,bounds = [(0.8, 0.999), (-0.999,0.999), (0+1e-10,BOB.Omega_QNM-1e-10)],method='Nelder-Mead')\n",
    "        else:\n",
    "            out = minimize(create_guess,(mf_guess,chif_guess,Omega0_guess),bounds = [(0.8, 0.999), (-0.999,0.999), (0+1e-10,BOB.Omega_QNM-1e-10)],method='Nelder-Mead')\n",
    "    else:\n",
    "        if(start_with_wide_search):\n",
    "            out = differential_evolution(create_guess,bounds = [(0.8, 0.999), (-0.999,0.999)])\n",
    "            out = minimize(create_guess,out.x,bounds = [(0.8, 0.999), (-0.999,0.999)],method='Nelder-Mead')\n",
    "        else:\n",
    "            out = minimize(create_guess,(mf_guess,chif_guess),bounds = [(0.8, 0.999), (-0.999,0.999)],method='Nelder-Mead')\n",
    "    #reset parameters in BOB\n",
    "    BOB.mf = old_mf\n",
    "    BOB.chif = old_chif\n",
    "    BOB.chif_with_sign = old_chif_with_sign\n",
    "    BOB.Omega_0 = old_Omega0\n",
    "    return out"
   ]
  },
  {
   "cell_type": "code",
   "execution_count": 51,
   "id": "18deb0dc-2e0d-473d-9347-5c50d54b5ed8",
   "metadata": {},
   "outputs": [
    {
     "name": "stdout",
     "output_type": "stream",
     "text": [
      "[DEBUG] Resampling NR_data to model_data.t\n",
      "[DEBUG] peak_time = 5147.456847890496\n",
      "[DEBUG] dx = 0.1000000000003638\n",
      "[DEBUG] numerator = (0.03857361453444449+0.0008810541673461793j)\n",
      "[DEBUG] denominator1 = 0.03937956585334833\n",
      "[DEBUG] denominator2 = 0.03792631909538553\n",
      "[DEBUG] max_mismatch = 0.9983843946994353\n",
      "[DEBUG] best_phi0 = -0.022836879802211916\n"
     ]
    },
    {
     "data": {
      "text/plain": [
       "(0.0016156053005647042, -0.022836879802211916)"
      ]
     },
     "execution_count": 51,
     "metadata": {},
     "output_type": "execute_result"
    }
   ],
   "source": [
    "mismatch(ts_BOB, ts_SXS, t0 = 0, tf = 5200, return_best_phi0=True)"
   ]
  },
  {
   "cell_type": "code",
   "execution_count": 56,
   "id": "089bdb45-89f0-4c49-b90e-c3d628f3f8a6",
   "metadata": {},
   "outputs": [
    {
     "data": {
      "text/plain": [
       "(0.0015528487862043194, 0.3399999999999633, 0.15662411767869433)"
      ]
     },
     "execution_count": 56,
     "metadata": {},
     "output_type": "execute_result"
    }
   ],
   "source": [
    "time_grid_mismatch(ts_BOB, ts_SXS, t0 = 0, tf = 5200, return_best_t_and_phi0= True)"
   ]
  },
  {
   "cell_type": "code",
   "execution_count": 24,
   "id": "8f002007-c34c-4b1f-bbfc-d701c184e554",
   "metadata": {},
   "outputs": [
    {
     "name": "stdout",
     "output_type": "stream",
     "text": [
      "[DEBUG] Resampling NR_data to model_data.t\n",
      "[DEBUG] peak_time = 5147.456847890496\n",
      "[DEBUG] dx = 0.1000000000003638\n",
      "[DEBUG] Cropping data for trapz integration\n",
      "[DEBUG] numerator = (0.038573604754830515+0.0008809559977890807j)\n",
      "[DEBUG] denominator1 = 0.039379565853280146\n",
      "[DEBUG] denominator2 = 0.03792631909511847\n",
      "[DEBUG] max_mismatch = 0.9983840837118275\n",
      "[DEBUG] best_phi0 = -0.02283434192387832\n"
     ]
    },
    {
     "data": {
      "text/plain": [
       "(0.001615916288172481, -0.02283434192387832)"
      ]
     },
     "execution_count": 24,
     "metadata": {},
     "output_type": "execute_result"
    }
   ],
   "source": [
    "mismatch(ts_BOB, ts_psi4, t0 = 0, tf = 5200, use_trapz = True, return_best_phi0=True)"
   ]
  },
  {
   "cell_type": "code",
   "execution_count": 58,
   "id": "e8d85b8d-32ff-47a4-9207-e87c263de2b5",
   "metadata": {
    "collapsed": true,
    "jupyter": {
     "outputs_hidden": true
    }
   },
   "outputs": [
    {
     "ename": "AttributeError",
     "evalue": "'BOB' object has no attribute 'chif_with_sign'",
     "output_type": "error",
     "traceback": [
      "\u001b[0;31m---------------------------------------------------------------------------\u001b[0m",
      "\u001b[0;31mAttributeError\u001b[0m                            Traceback (most recent call last)",
      "Cell \u001b[0;32mIn[58], line 1\u001b[0m\n\u001b[0;32m----> 1\u001b[0m \u001b[43mestimate_parameters\u001b[49m\u001b[43m(\u001b[49m\u001b[43mBOB\u001b[49m\u001b[43m,\u001b[49m\n\u001b[1;32m      2\u001b[0m \u001b[43m                        \u001b[49m\u001b[43mmf_guess\u001b[49m\u001b[38;5;241;43m=\u001b[39;49m\u001b[38;5;241;43m0.95\u001b[39;49m\u001b[43m,\u001b[49m\n\u001b[1;32m      3\u001b[0m \u001b[43m                        \u001b[49m\u001b[43mchif_guess\u001b[49m\u001b[38;5;241;43m=\u001b[39;49m\u001b[38;5;241;43m0.5\u001b[39;49m\u001b[43m,\u001b[49m\n\u001b[1;32m      4\u001b[0m \u001b[43m                        \u001b[49m\u001b[43mOmega0_guess\u001b[49m\u001b[38;5;241;43m=\u001b[39;49m\u001b[38;5;241;43m0.155\u001b[39;49m\u001b[43m,\u001b[49m\n\u001b[1;32m      5\u001b[0m \u001b[43m                        \u001b[49m\u001b[43mt0\u001b[49m\u001b[38;5;241;43m=\u001b[39;49m\u001b[38;5;241;43m0\u001b[39;49m\u001b[43m,\u001b[49m\n\u001b[1;32m      6\u001b[0m \u001b[43m                        \u001b[49m\u001b[43mtf\u001b[49m\u001b[38;5;241;43m=\u001b[39;49m\u001b[38;5;241;43m75\u001b[39;49m\u001b[43m,\u001b[49m\n\u001b[1;32m      7\u001b[0m \u001b[43m                        \u001b[49m\u001b[43mforce_Omega0_optimization\u001b[49m\u001b[38;5;241;43m=\u001b[39;49m\u001b[38;5;28;43;01mFalse\u001b[39;49;00m\u001b[43m,\u001b[49m\n\u001b[1;32m      8\u001b[0m \u001b[43m                        \u001b[49m\u001b[43mNR_data\u001b[49m\u001b[38;5;241;43m=\u001b[39;49m\u001b[38;5;28;43;01mNone\u001b[39;49;00m\u001b[43m,\u001b[49m\n\u001b[1;32m      9\u001b[0m \u001b[43m                        \u001b[49m\u001b[43mmake_current_naturally\u001b[49m\u001b[38;5;241;43m=\u001b[39;49m\u001b[38;5;28;43;01mFalse\u001b[39;49;00m\u001b[43m,\u001b[49m\n\u001b[1;32m     10\u001b[0m \u001b[43m                        \u001b[49m\u001b[43mmake_mass_naturally\u001b[49m\u001b[38;5;241;43m=\u001b[39;49m\u001b[38;5;28;43;01mFalse\u001b[39;49;00m\u001b[43m,\u001b[49m\n\u001b[1;32m     11\u001b[0m \u001b[43m                        \u001b[49m\u001b[43minclude_Omega0_as_parameter\u001b[49m\u001b[38;5;241;43m=\u001b[39;49m\u001b[38;5;28;43;01mFalse\u001b[39;49;00m\u001b[43m,\u001b[49m\n\u001b[1;32m     12\u001b[0m \u001b[43m                        \u001b[49m\u001b[43minclude_2Omega0_as_parameters\u001b[49m\u001b[38;5;241;43m=\u001b[39;49m\u001b[38;5;28;43;01mFalse\u001b[39;49;00m\u001b[43m,\u001b[49m\n\u001b[1;32m     13\u001b[0m \u001b[43m                        \u001b[49m\u001b[43mperform_phase_alignment_first\u001b[49m\u001b[38;5;241;43m=\u001b[39;49m\u001b[38;5;28;43;01mFalse\u001b[39;49;00m\u001b[43m,\u001b[49m\n\u001b[1;32m     14\u001b[0m \u001b[43m                        \u001b[49m\u001b[43mstart_with_wide_search\u001b[49m\u001b[43m \u001b[49m\u001b[38;5;241;43m=\u001b[39;49m\u001b[43m \u001b[49m\u001b[38;5;28;43;01mFalse\u001b[39;49;00m\u001b[43m,\u001b[49m\n\u001b[1;32m     15\u001b[0m \u001b[43m                        \u001b[49m\u001b[43mt_shift_range\u001b[49m\u001b[38;5;241;43m=\u001b[39;49m\u001b[43mnp\u001b[49m\u001b[38;5;241;43m.\u001b[39;49m\u001b[43marange\u001b[49m\u001b[43m(\u001b[49m\u001b[38;5;241;43m-\u001b[39;49m\u001b[38;5;241;43m10\u001b[39;49m\u001b[43m,\u001b[49m\u001b[38;5;241;43m10\u001b[39;49m\u001b[43m,\u001b[49m\u001b[38;5;241;43m0.1\u001b[39;49m\u001b[43m)\u001b[49m\u001b[43m)\u001b[49m\n",
      "Cell \u001b[0;32mIn[57], line 28\u001b[0m, in \u001b[0;36mestimate_parameters\u001b[0;34m(BOB, mf_guess, chif_guess, Omega0_guess, t0, tf, force_Omega0_optimization, NR_data, make_current_naturally, make_mass_naturally, include_Omega0_as_parameter, include_2Omega0_as_parameters, perform_phase_alignment_first, start_with_wide_search, t_shift_range)\u001b[0m\n\u001b[1;32m     26\u001b[0m old_mf \u001b[38;5;241m=\u001b[39m BOB\u001b[38;5;241m.\u001b[39mmf\n\u001b[1;32m     27\u001b[0m old_chif \u001b[38;5;241m=\u001b[39m BOB\u001b[38;5;241m.\u001b[39mchif\n\u001b[0;32m---> 28\u001b[0m old_chif_with_sign \u001b[38;5;241m=\u001b[39m \u001b[43mBOB\u001b[49m\u001b[38;5;241;43m.\u001b[39;49m\u001b[43mchif_with_sign\u001b[49m\n\u001b[1;32m     29\u001b[0m old_Omega0 \u001b[38;5;241m=\u001b[39m BOB\u001b[38;5;241m.\u001b[39mOmega_0\n\u001b[1;32m     30\u001b[0m \u001b[38;5;66;03m#we use a scipy optimizer to find the best mass and spin\u001b[39;00m\n",
      "\u001b[0;31mAttributeError\u001b[0m: 'BOB' object has no attribute 'chif_with_sign'"
     ]
    }
   ],
   "source": [
    "estimate_parameters(BOB,\n",
    "                        mf_guess=0.95,\n",
    "                        chif_guess=0.5,\n",
    "                        Omega0_guess=0.155,\n",
    "                        t0=0,\n",
    "                        tf=75,\n",
    "                        force_Omega0_optimization=False,\n",
    "                        NR_data=None,\n",
    "                        make_current_naturally=False,\n",
    "                        make_mass_naturally=False,\n",
    "                        include_Omega0_as_parameter=False,\n",
    "                        include_2Omega0_as_parameters=False,\n",
    "                        perform_phase_alignment_first=False,\n",
    "                        start_with_wide_search = False,\n",
    "                        t_shift_range=np.arange(-10,10,0.1))"
   ]
  },
  {
   "cell_type": "code",
   "execution_count": null,
   "id": "1f3ea734-767d-47ac-a4a6-179034670b6e",
   "metadata": {},
   "outputs": [],
   "source": []
  },
  {
   "cell_type": "code",
   "execution_count": 122,
   "id": "228cf91d-e26d-4d25-9df6-9650939dca82",
   "metadata": {
    "scrolled": true
   },
   "outputs": [
    {
     "name": "stdout",
     "output_type": "stream",
     "text": [
      "{\n",
      "    \"simulation_name\": \"bbh_q1_superkick/Lev5\",\n",
      "    \"alternative_names\": [],\n",
      "    \"keywords\": [],\n",
      "    \"point_of_contact_email\": \"kmitman@caltech.edu\",\n",
      "    \"authors_emails\": [],\n",
      "    \"simulation_bibtex_keys\": \"SXSCatalog\",\n",
      "    \"code_bibtex_keys\": [\n",
      "        \"Ossokine:2013zga\",\n",
      "        \"Hemberger:2012jz\",\n",
      "        \"Szilagyi:2009qz\",\n",
      "        \"Boyle:2009vi\",\n",
      "        \"Scheel:2008rj\",\n",
      "        \"Boyle:2007ft\",\n",
      "        \"Scheel:2006gg\",\n",
      "        \"Lindblom:2005qh\",\n",
      "        \"Pfeiffer:2002wt\",\n",
      "        \"SpECwebsite\"\n",
      "    ],\n",
      "    \"initial_data_bibtex_keys\": [\n",
      "        \"Buchman:2012dw\",\n",
      "        \"Lovelace:2008tw\",\n",
      "        \"Pfeiffer:2007yz\",\n",
      "        \"Caudill:2006hw\",\n",
      "        \"Cook:2004kt\"\n",
      "    ],\n",
      "    \"quasicircular_bibtex_keys\": [\n",
      "        \"Mroue:2012kv\",\n",
      "        \"Buonanno:2010yk\",\n",
      "        \"Mroue:2010re\",\n",
      "        \"Boyle:2007ft\"\n",
      "    ],\n",
      "    \"initial_data_type\": \"BBH_SHK\",\n",
      "    \"initial_separation\": 15.41943359375,\n",
      "    \"initial_orbital_frequency\": 0.01506210118,\n",
      "    \"initial_adot\": -3.56361662792e-05,\n",
      "    \"object1\": \"bh\",\n",
      "    \"object2\": \"bh\",\n",
      "    \"initial_ADM_energy\": 0.9928194631609509,\n",
      "    \"initial_ADM_linear_momentum\": [\n",
      "        2.296789e-10,\n",
      "        -5.346637e-10,\n",
      "        -8.64913e-10\n",
      "    ],\n",
      "    \"initial_ADM_angular_momentum\": [\n",
      "        -2.1609789e-09,\n",
      "        1.49083e-11,\n",
      "        1.1164727688866658\n",
      "    ],\n",
      "    \"initial_mass1\": 0.4999999904608037,\n",
      "    \"initial_mass2\": 0.4999999918261626,\n",
      "    \"initial_dimensionless_spin1\": [\n",
      "        0.5999999874359785,\n",
      "        4.1231417e-09,\n",
      "        -8.3018135e-09\n",
      "    ],\n",
      "    \"initial_dimensionless_spin2\": [\n",
      "        -0.599999992933222,\n",
      "        -5.7217309e-09,\n",
      "        -1.33643745e-08\n",
      "    ],\n",
      "    \"initial_position1\": [\n",
      "        7.7097169724757295,\n",
      "        -4.40878876e-08,\n",
      "        0.0318098480311412\n",
      "    ],\n",
      "    \"initial_position2\": [\n",
      "        -7.7097166212742705,\n",
      "        -4.40878876e-08,\n",
      "        0.0318098480311412\n",
      "    ],\n",
      "    \"relaxation_time\": 232.5,\n",
      "    \"reference_time\": 232.5,\n",
      "    \"reference_mass1\": 0.500004747018,\n",
      "    \"reference_mass2\": 0.500004747235,\n",
      "    \"reference_dimensionless_spin1\": [\n",
      "        0.589387729701,\n",
      "        0.112204488665,\n",
      "        -0.00025983833832\n",
      "    ],\n",
      "    \"reference_dimensionless_spin2\": [\n",
      "        -0.589387737587,\n",
      "        -0.112204493347,\n",
      "        -0.000259840064753\n",
      "    ],\n",
      "    \"reference_position1\": [\n",
      "        -7.2294107737,\n",
      "        -3.39608765376,\n",
      "        -0.0328582927837\n",
      "    ],\n",
      "    \"reference_position2\": [\n",
      "        7.22941058775,\n",
      "        3.39608825818,\n",
      "        -0.0328582300474\n",
      "    ],\n",
      "    \"reference_orbital_frequency\": [\n",
      "        -7.85048196432e-11,\n",
      "        2.48910069341e-11,\n",
      "        0.0153981519013\n",
      "    ],\n",
      "    \"reference_eccentricity\": \"<2.1e-04\",\n",
      "    \"reference_mean_anomaly\": 5.4078,\n",
      "    \"common_horizon_time\": 5120.19121024,\n",
      "    \"number_of_orbits\": 18.7818877099,\n",
      "    \"remnant_mass\": 0.949435238357,\n",
      "    \"remnant_dimensionless_spin\": [\n",
      "        -1.10929877907e-08,\n",
      "        3.32552069179e-09,\n",
      "        0.678561988326\n",
      "    ],\n",
      "    \"remnant_velocity\": [\n",
      "        -1.91772049449e-09,\n",
      "        4.48054507474e-09,\n",
      "        0.00673540220119\n",
      "    ],\n",
      "    \"metadata_version\": 1,\n",
      "    \"spec_revisions\": \"InitialCommit-31496-gd99b3cea0c\",\n",
      "    \"spells_revision\": \"d99b3cea0c1703ab6ecc06e6cea11247210263d8\"\n",
      "}\n"
     ]
    }
   ],
   "source": [
    "import json\n",
    "\n",
    "with open('sxs_cache/cce9/metadata.json', 'r') as file:\n",
    "    data = json.load(file)\n",
    "\n",
    "print(json.dumps(data, indent=4))"
   ]
  }
 ],
 "metadata": {
  "kernelspec": {
   "display_name": "Python 3 (ipykernel)",
   "language": "python",
   "name": "python3"
  },
  "language_info": {
   "codemirror_mode": {
    "name": "ipython",
    "version": 3
   },
   "file_extension": ".py",
   "mimetype": "text/x-python",
   "name": "python",
   "nbconvert_exporter": "python",
   "pygments_lexer": "ipython3",
   "version": "3.10.12"
  }
 },
 "nbformat": 4,
 "nbformat_minor": 5
}
