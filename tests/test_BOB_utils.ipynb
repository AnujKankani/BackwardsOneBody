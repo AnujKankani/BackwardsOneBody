{
 "cells": [
  {
   "cell_type": "code",
   "execution_count": 69,
   "id": "06ffa7f8-ae3b-43fe-b8c5-827bad09e8dd",
   "metadata": {},
   "outputs": [],
   "source": [
    "import os\n",
    "import sxs\n",
    "import qnm\n",
    "from kuibit.timeseries import TimeSeries as kuibit_ts\n",
    "import sys\n",
    "sys.path.append(\"..\")\n",
    "import gen_utils\n",
    "import numpy as np\n",
    "import BOB_utils\n",
    "import gen_utils"
   ]
  },
  {
   "cell_type": "code",
   "execution_count": 63,
   "id": "619f42aa-aa84-408a-aaa2-83531c3f8459",
   "metadata": {},
   "outputs": [],
   "source": [
    "cache_path = os.path.join(os.getcwd(), \"sxs_cache\")\n",
    "sxs.write_config(cache_directory=cache_path)\n",
    "\n",
    "# Now, when you call load, it will use this path\n",
    "# catalog = sxs.load(\"catalog\", download = False)"
   ]
  },
  {
   "cell_type": "code",
   "execution_count": 16,
   "id": "52f4db7f-c8d2-48a1-b5d7-4ece472ff5b5",
   "metadata": {},
   "outputs": [],
   "source": [
    "# test_sims = (\n",
    "sim = sxs.load(\"SXS:BBH:1832\",download=False)"
   ]
  },
  {
   "cell_type": "code",
   "execution_count": 25,
   "id": "da1d243a-b1ee-4fd8-b177-654c726d1055",
   "metadata": {
    "collapsed": true,
    "jupyter": {
     "outputs_hidden": true,
     "source_hidden": true
    }
   },
   "outputs": [
    {
     "data": {
      "text/plain": [
       "WaveformModes([[-1.51458292e-04+3.48199172e-04j, -5.39068261e-05+2.38872714e-04j,\n",
       "         1.31339908e-05+3.49157986e-04j, ...,\n",
       "         1.91395771e-05-2.77127650e-05j,  7.65399732e-06-1.93602512e-05j,\n",
       "        -3.30161838e-05+3.47232325e-05j],\n",
       "       [-7.58087626e-05+4.14673106e-04j, -6.17528222e-05+2.53518784e-04j,\n",
       "         1.92170585e-05+2.59033621e-04j, ...,\n",
       "         1.74684955e-05-2.56085875e-05j,  1.81942068e-05-9.99844023e-09j,\n",
       "        -4.99048375e-05+2.87528911e-05j],\n",
       "       [ 4.52924632e-05+4.32800875e-04j, -5.44489009e-05+2.36073200e-04j,\n",
       "        -3.35589802e-05+1.35291723e-04j, ...,\n",
       "         1.18550348e-05-2.04316372e-05j,  2.64572287e-05+2.57943488e-05j,\n",
       "        -6.47263898e-05+1.69152511e-05j],\n",
       "       ...,\n",
       "       [ 1.78745759e-06-5.72743520e-07j, -8.49353952e-07-8.86814857e-07j,\n",
       "        -5.33967785e-07+4.26076222e-08j, ...,\n",
       "         3.14709017e-10-1.94713380e-10j,  1.94505338e-10+2.50696065e-10j,\n",
       "         5.02871056e-10+4.46587136e-10j],\n",
       "       [ 1.80422824e-06-4.61938462e-07j, -7.87723042e-07-9.17828886e-07j,\n",
       "        -5.55565223e-07+4.95136623e-08j, ...,\n",
       "         3.18235871e-10-2.34160579e-10j,  2.32051472e-10+2.46110176e-10j,\n",
       "         5.72989556e-10+3.96995198e-10j],\n",
       "       [ 1.81513154e-06-3.52186081e-07j, -7.26580778e-07-9.45348462e-07j,\n",
       "        -5.74537500e-07+5.70615483e-08j, ...,\n",
       "         2.67454115e-10-5.74647653e-11j,  1.77720145e-10+1.26864727e-10j,\n",
       "         7.68834901e-10+1.42767959e-10j]], time=array([2.91491706e-01, 1.11917409e+00, 1.94401246e+00, ...,\n",
       "       5.21784533e+03, 5.21794534e+03, 5.21804535e+03]), time_axis=0)"
      ]
     },
     "execution_count": 25,
     "metadata": {},
     "output_type": "execute_result"
    }
   ],
   "source": [
    "sim.psi4"
   ]
  },
  {
   "cell_type": "code",
   "execution_count": 19,
   "id": "a31ee921-59f6-4c6c-8756-7e01b225af29",
   "metadata": {
    "collapsed": true,
    "jupyter": {
     "outputs_hidden": true,
     "source_hidden": true
    }
   },
   "outputs": [
    {
     "name": "stdout",
     "output_type": "stream",
     "text": [
      "Downloading to /mnt/c/users/chros/documents/github/BackwardsOneBody/tests/sxs_cache/SXS:BBH:1832v3.0/Lev3:ExtraWaveforms.h5:\n"
     ]
    },
    {
     "data": {
      "application/vnd.jupyter.widget-view+json": {
       "model_id": "bb79a0c2a4e341c8bd749c9949feb20a",
       "version_major": 2,
       "version_minor": 0
      },
      "text/plain": [
       "  0%|                                                                               | 0/491 [00:00<?, ?it/s]"
      ]
     },
     "metadata": {},
     "output_type": "display_data"
    },
    {
     "name": "stdout",
     "output_type": "stream",
     "text": [
      "Downloading to /mnt/c/users/chros/documents/github/BackwardsOneBody/tests/sxs_cache/SXS:BBH:1832v3.0/Lev3:ExtraWaveforms.h5:\n"
     ]
    },
    {
     "data": {
      "application/vnd.jupyter.widget-view+json": {
       "model_id": "4ed147223d6548b989d0471894abcea1",
       "version_major": 2,
       "version_minor": 0
      },
      "text/plain": [
       "  0%|                                                                          | 0/33855407 [00:00<?, ?it/s]"
      ]
     },
     "metadata": {},
     "output_type": "display_data"
    },
    {
     "data": {
      "text/plain": [
       "WaveformModes([[-1.51458292e-04+3.48199172e-04j, -5.39068261e-05+2.38872714e-04j,\n",
       "         1.31339908e-05+3.49157986e-04j, ...,\n",
       "         1.91395771e-05-2.77127650e-05j,  7.65399732e-06-1.93602512e-05j,\n",
       "        -3.30161838e-05+3.47232325e-05j],\n",
       "       [-7.58087626e-05+4.14673106e-04j, -6.17528222e-05+2.53518784e-04j,\n",
       "         1.92170585e-05+2.59033621e-04j, ...,\n",
       "         1.74684955e-05-2.56085875e-05j,  1.81942068e-05-9.99844023e-09j,\n",
       "        -4.99048375e-05+2.87528911e-05j],\n",
       "       [ 4.52924632e-05+4.32800875e-04j, -5.44489009e-05+2.36073200e-04j,\n",
       "        -3.35589802e-05+1.35291723e-04j, ...,\n",
       "         1.18550348e-05-2.04316372e-05j,  2.64572287e-05+2.57943488e-05j,\n",
       "        -6.47263898e-05+1.69152511e-05j],\n",
       "       ...,\n",
       "       [ 1.78745759e-06-5.72743520e-07j, -8.49353952e-07-8.86814857e-07j,\n",
       "        -5.33967785e-07+4.26076222e-08j, ...,\n",
       "         3.14709017e-10-1.94713380e-10j,  1.94505338e-10+2.50696065e-10j,\n",
       "         5.02871056e-10+4.46587136e-10j],\n",
       "       [ 1.80422824e-06-4.61938462e-07j, -7.87723042e-07-9.17828886e-07j,\n",
       "        -5.55565223e-07+4.95136623e-08j, ...,\n",
       "         3.18235871e-10-2.34160579e-10j,  2.32051472e-10+2.46110176e-10j,\n",
       "         5.72989556e-10+3.96995198e-10j],\n",
       "       [ 1.81513154e-06-3.52186081e-07j, -7.26580778e-07-9.45348462e-07j,\n",
       "        -5.74537500e-07+5.70615483e-08j, ...,\n",
       "         2.67454115e-10-5.74647653e-11j,  1.77720145e-10+1.26864727e-10j,\n",
       "         7.68834901e-10+1.42767959e-10j]], time=array([2.91491706e-01, 1.11917409e+00, 1.94401246e+00, ...,\n",
       "       5.21784533e+03, 5.21794534e+03, 5.21804535e+03]), time_axis=0)"
      ]
     },
     "execution_count": 19,
     "metadata": {},
     "output_type": "execute_result"
    }
   ],
   "source": [
    "sim.psi4"
   ]
  },
  {
   "cell_type": "code",
   "execution_count": 26,
   "id": "0529790a-10fe-40fb-bec9-a5944cebf467",
   "metadata": {},
   "outputs": [],
   "source": [
    "sim2 = sxs.load(\"SXS:BBH:1234\",download=False)"
   ]
  },
  {
   "cell_type": "code",
   "execution_count": 27,
   "id": "4f4a5d24-d6be-4acc-9edd-a62f8b16cae0",
   "metadata": {},
   "outputs": [
    {
     "ename": "AttributeError",
     "evalue": "'Simulation_v3' object has no attribute 'news'",
     "output_type": "error",
     "traceback": [
      "\u001b[0;31m---------------------------------------------------------------------------\u001b[0m",
      "\u001b[0;31mAttributeError\u001b[0m                            Traceback (most recent call last)",
      "Cell \u001b[0;32mIn[27], line 1\u001b[0m\n\u001b[0;32m----> 1\u001b[0m \u001b[43msim2\u001b[49m\u001b[38;5;241;43m.\u001b[39;49m\u001b[43mnews\u001b[49m\n",
      "\u001b[0;31mAttributeError\u001b[0m: 'Simulation_v3' object has no attribute 'news'"
     ]
    }
   ],
   "source": [
    "sim2.news"
   ]
  },
  {
   "cell_type": "markdown",
   "id": "6f14f445-aaf8-47d8-9bc1-933c5b6b1559",
   "metadata": {},
   "source": [
    "## 09/29"
   ]
  },
  {
   "cell_type": "code",
   "execution_count": 101,
   "id": "c60195e2-c0df-499e-a8d5-cc5ab00ed48a",
   "metadata": {},
   "outputs": [],
   "source": [
    "def kuibit_ts_save(timeseries, location):\n",
    "    # timeseries is an dictionary of kuibit timeseries\n",
    "    # location is the relative path\n",
    "    arrays_to_save = {}\n",
    "    for name, ts in timeseries.items():\n",
    "        # Store both time and data arrays under unique keys\n",
    "        arrays_to_save[f\"{name}_t\"] = ts.t\n",
    "        arrays_to_save[f\"{name}_y\"] = ts.y\n",
    "    np.savez(location, **arrays_to_save)\n",
    "    return \n",
    "def kuibit_ts_load(location):\n",
    "    data = np.load(location)\n",
    "    timeseries = {}\n",
    "    for key in data.files:\n",
    "        if key.endswith(\"_t\"):\n",
    "            name = key[:-2]\n",
    "            t = data[f\"{name}_t\"]\n",
    "            y = data[f\"{name}_y\"]\n",
    "            timeseries[name] = kuibit_ts(t, y)\n",
    "    return timeseries"
   ]
  },
  {
   "cell_type": "code",
   "execution_count": null,
   "id": "df0e459c-39d1-4be7-aa23-2ac68b8b39d4",
   "metadata": {
    "jupyter": {
     "source_hidden": true
    }
   },
   "outputs": [],
   "source": [
    "BOB = BOB_utils.BOB()\n",
    "BOB.initialize_with_NR_psi4_data(t = ts_psi4.t, y = ts_psi4.y, mf = 0.949435238357, chif = (-1.10929877907e-08,\n",
    "        3.32552069179e-09,\n",
    "        0.678561988326))\n",
    "BOB.what_should_BOB_create = \"psi4\"\n",
    "BOB.optimize_Omega0_and_Phi0 = True"
   ]
  },
  {
   "cell_type": "code",
   "execution_count": 35,
   "id": "ebd6dc88-e02e-47ac-85fb-53763a9244af",
   "metadata": {},
   "outputs": [
    {
     "name": "stdout",
     "output_type": "stream",
     "text": [
      "Destination path /home/chrosmic/.cache/qnm/data-0.4.0.tar.bz2 already exists, use overwrite=True to force an overwrite.\n",
      "loading SXS data:  SXS:BBH:2325\n",
      "Downloading to /mnt/c/users/chros/documents/github/BackwardsOneBody/tests/sxs_cache/SXS:BBH:2325v3.0/Lev3:ExtraWaveforms.h5:\n"
     ]
    },
    {
     "data": {
      "application/vnd.jupyter.widget-view+json": {
       "model_id": "e09c9b602ea24f07a12872bd0df6cfc9",
       "version_major": 2,
       "version_minor": 0
      },
      "text/plain": [
       "  0%|                                                                               | 0/491 [00:00<?, ?it/s]"
      ]
     },
     "metadata": {},
     "output_type": "display_data"
    },
    {
     "name": "stdout",
     "output_type": "stream",
     "text": [
      "Downloading to /mnt/c/users/chros/documents/github/BackwardsOneBody/tests/sxs_cache/SXS:BBH:2325v3.0/Lev3:ExtraWaveforms.h5:\n"
     ]
    },
    {
     "data": {
      "application/vnd.jupyter.widget-view+json": {
       "model_id": "43b8e1a587a24c80aa4f4d77b01c10f2",
       "version_major": 2,
       "version_minor": 0
      },
      "text/plain": [
       "  0%|                                                                          | 0/23450282 [00:00<?, ?it/s]"
      ]
     },
     "metadata": {},
     "output_type": "display_data"
    }
   ],
   "source": [
    "BOB = BOB_utils.BOB()\n",
    "BOB.initialize_with_sxs_data(\"SXS:BBH:2325\",l=2,m=2,download=False)\n",
    "BOB.what_should_BOB_create = \"psi4\"\n",
    "BOB.optimize_Omega0_and_Phi0 = True"
   ]
  },
  {
   "cell_type": "code",
   "execution_count": 137,
   "id": "95413701-35f6-4b5c-a632-6d02713ebc71",
   "metadata": {},
   "outputs": [
    {
     "data": {
      "text/plain": [
       "0.0"
      ]
     },
     "execution_count": 137,
     "metadata": {},
     "output_type": "execute_result"
    }
   ],
   "source": [
    "BOB.what_should_BOB_create = \"psi4\"\n",
    "BOB.optimize_Omega0_and_Phi0 = True\n",
    "t_bob_psi4, y_bob_psi4 = BOB.construct_BOB()\n",
    "ts_2325_psi4 = kuibit_ts(t_bob_psi4, y_bob_psi4)\n",
    "mismatch(ts_2325_psi4, ts_2325_psi4)"
   ]
  },
  {
   "cell_type": "code",
   "execution_count": 118,
   "id": "9d129272-7bee-4d58-90dc-3cbd15c6975f",
   "metadata": {},
   "outputs": [
    {
     "data": {
      "text/plain": [
       "array([-1.31698067e-04-0.00129217j, -1.58106444e-04-0.00130043j,\n",
       "       -1.84898115e-04-0.00130824j, ...,  5.46327696e-05-0.0001477j ,\n",
       "        4.59838810e-05-0.00014922j,  3.73385416e-05-0.00015024j])"
      ]
     },
     "execution_count": 118,
     "metadata": {},
     "output_type": "execute_result"
    }
   ],
   "source": [
    "y_bob_psi4"
   ]
  },
  {
   "cell_type": "code",
   "execution_count": 138,
   "id": "96951139-f318-436b-b4e5-d2d44732f446",
   "metadata": {},
   "outputs": [
    {
     "data": {
      "text/plain": [
       "6.514008639625605e-17"
      ]
     },
     "execution_count": 138,
     "metadata": {},
     "output_type": "execute_result"
    }
   ],
   "source": [
    "BOB.what_should_BOB_create = \"news\"\n",
    "BOB.optimize_Omega0_and_Phi0 = True\n",
    "t_bob_news, y_bob_news = BOB.construct_BOB()\n",
    "ts_2325_news= kuibit_ts(t_bob_news, y_bob_news)\n",
    "mismatch(ts_2325_news, ts_2325_news)"
   ]
  },
  {
   "cell_type": "code",
   "execution_count": 139,
   "id": "9423ad3e-4ef2-48fe-a9d3-c101bc95e773",
   "metadata": {},
   "outputs": [
    {
     "data": {
      "text/plain": [
       "5.0144781282160135e-17"
      ]
     },
     "execution_count": 139,
     "metadata": {},
     "output_type": "execute_result"
    }
   ],
   "source": [
    "BOB.what_should_BOB_create = \"strain\"\n",
    "BOB.optimize_Omega0_and_Phi0 = True\n",
    "t_bob_strain, y_bob_strain = BOB.construct_BOB()\n",
    "ts_2325_strain= kuibit_ts(t_bob_strain, y_bob_strain)\n",
    "mismatch(ts_2325_strain, ts_2325_strain)"
   ]
  },
  {
   "cell_type": "code",
   "execution_count": 140,
   "id": "4bcb750f-d7a7-4637-8809-f7e962a914d6",
   "metadata": {},
   "outputs": [
    {
     "data": {
      "text/plain": [
       "0.31407442926984364"
      ]
     },
     "execution_count": 140,
     "metadata": {},
     "output_type": "execute_result"
    }
   ],
   "source": [
    "np.abs(mismatch(ts_2325_strain, ts_2325_psi4))"
   ]
  },
  {
   "cell_type": "code",
   "execution_count": 117,
   "id": "62eb5a1d-f42c-4a90-8dd9-c87b2934ac64",
   "metadata": {},
   "outputs": [
    {
     "data": {
      "text/plain": [
       "array([-1.31698067e-04-0.00129217j, -1.58106444e-04-0.00130043j,\n",
       "       -1.84898115e-04-0.00130824j, ...,  5.46327696e-05-0.0001477j ,\n",
       "        4.59838810e-05-0.00014922j,  3.73385416e-05-0.00015024j])"
      ]
     },
     "execution_count": 117,
     "metadata": {},
     "output_type": "execute_result"
    }
   ],
   "source": [
    "y_bob_strain"
   ]
  },
  {
   "cell_type": "code",
   "execution_count": 128,
   "id": "31fe7688-a89a-4177-936b-3b1fd6e2d439",
   "metadata": {},
   "outputs": [],
   "source": [
    "timeseries_2325 = {\n",
    "    \"psi4\": ts_2325_psi4,\n",
    "    \"news\": ts_2325_news,\n",
    "    \"strain\": ts_2325_strain\n",
    "}"
   ]
  },
  {
   "cell_type": "code",
   "execution_count": 129,
   "id": "42fec3e2-79ce-43b1-aaf0-120f5b01f1d6",
   "metadata": {},
   "outputs": [],
   "source": [
    "kuibit_ts_save(timeseries_2325, \"trusted_outputs/BBH_2325_BOB_wf.npz\")"
   ]
  },
  {
   "cell_type": "code",
   "execution_count": 133,
   "id": "cd99fa78-50a5-4bd3-9ecf-f3fcb5f1f399",
   "metadata": {},
   "outputs": [],
   "source": [
    "BOB_exp = kuibit_ts_load(\"trusted_outputs/BBH_2325_BOB_wf.npz\")"
   ]
  },
  {
   "cell_type": "code",
   "execution_count": 136,
   "id": "f9d00840-16ec-44d2-98cb-bafb26cc1c3f",
   "metadata": {},
   "outputs": [
    {
     "data": {
      "text/plain": [
       "<kuibit.timeseries.TimeSeries at 0x7ef8a730e500>"
      ]
     },
     "execution_count": 136,
     "metadata": {},
     "output_type": "execute_result"
    }
   ],
   "source": [
    "BOB_exp[\"psi4\"]\n"
   ]
  },
  {
   "cell_type": "code",
   "execution_count": 37,
   "id": "5e5dcf0b-671e-4760-aade-0d19817a8196",
   "metadata": {},
   "outputs": [
    {
     "data": {
      "text/plain": [
       "0.07376514659678879"
      ]
     },
     "execution_count": 37,
     "metadata": {},
     "output_type": "execute_result"
    }
   ],
   "source": [
    "BOB.Ap"
   ]
  },
  {
   "cell_type": "code",
   "execution_count": 60,
   "id": "55dc086c-299e-4bbf-8bc6-9075103ae9b0",
   "metadata": {},
   "outputs": [],
   "source": [
    "location = \"trusted_outputs/BOB_BBH_2325_optimize_psi4.npz\"\n",
    "def save_bob_attributes(BOB, filename):\n",
    "    \"\"\"\n",
    "    Save the physically important BOB parameters to a .npz file.\n",
    "    \"\"\"\n",
    "    attrs_to_save = {\n",
    "        \"mf\": BOB.mf,\n",
    "        \"chif\": np.array(BOB.chif),\n",
    "        \"l\": BOB.l,\n",
    "        \"m\": BOB.m,\n",
    "        \"Ap\": BOB.Ap,\n",
    "        \"tp\": BOB.tp,\n",
    "        \"Omega_0\": BOB.Omega_0,\n",
    "        \"Phi_0\": BOB.Phi_0,\n",
    "        \"tau\": BOB.tau,\n",
    "        \"Omega_ISCO\": BOB.Omega_ISCO,\n",
    "        \"what_should_BOB_create\": getattr(BOB, \"what_should_BOB_create\", None),\n",
    "        \"optimize_Omega0_and_Phi0\": getattr(BOB, \"optimize_Omega0_and_Phi0\", None),\n",
    "    }\n",
    "\n",
    "    np.savez(filename, **attrs_to_save)\n",
    "    print(f\"[INFO] Saved BOB parameters to {filename}\")\n"
   ]
  },
  {
   "cell_type": "code",
   "execution_count": 61,
   "id": "cb1806d6-5816-4b14-a415-f933671c3c45",
   "metadata": {},
   "outputs": [
    {
     "name": "stdout",
     "output_type": "stream",
     "text": [
      "[INFO] Saved BOB parameters to trusted_outputs/BOB_BBH_2325_optimize_psi4.npz\n"
     ]
    }
   ],
   "source": [
    "save_bob_attributes(BOB, location)"
   ]
  },
  {
   "cell_type": "code",
   "execution_count": 49,
   "id": "b5f13ca7-6f72-4fe5-8c74-99befbd0bc31",
   "metadata": {},
   "outputs": [
    {
     "name": "stdout",
     "output_type": "stream",
     "text": [
      "0.9516113621985476 0.6864407656228295 0.1478517174758218\n"
     ]
    }
   ],
   "source": [
    "data = np.load(location)\n",
    "print(data[\"mf\"], data[\"chif\"], data[\"Omega_0\"])"
   ]
  },
  {
   "cell_type": "code",
   "execution_count": 126,
   "id": "93cc16fd-8512-472e-a875-2cd1d842154e",
   "metadata": {},
   "outputs": [],
   "source": [
    "def mismatch(ts1, ts2, t0=None, tf=None):\n",
    "\n",
    "    # Extract time and values from Kuibit TimeSeries\n",
    "    t1, y1 = ts1.t, ts1.y\n",
    "    t2, y2 = ts2.t, ts2.y\n",
    "\n",
    "    # Ensure y-data is 1D\n",
    "    y1 = np.atleast_1d(y1)\n",
    "    y2 = np.atleast_1d(y2)\n",
    "\n",
    "    # Determine default t0 and tf from overlap\n",
    "    if t0 is None:\n",
    "        t0 = max(t1[0], t2[0])\n",
    "    if tf is None:\n",
    "        tf = min(t1[-1], t2[-1])\n",
    "\n",
    "    if t0 >= tf:\n",
    "        raise ValueError(\"No overlapping time interval between the two series.\")\n",
    "\n",
    "    # Common time grid\n",
    "    dt = min(np.min(np.diff(t1)), np.min(np.diff(t2)))\n",
    "    common_t = np.arange(t0, tf, dt)\n",
    "\n",
    "    # Interpolate both waveforms\n",
    "    y1_interp = np.interp(common_t, t1, y1)\n",
    "    y2_interp = np.interp(common_t, t2, y2)\n",
    "\n",
    "    # Inner product helper\n",
    "    def inner_product(a, b):\n",
    "        return np.trapz(a * b, common_t)\n",
    "\n",
    "    # Compute normalized overlap\n",
    "    overlap = inner_product(y1_interp, y2_interp)\n",
    "    norm1 = np.sqrt(inner_product(y1_interp, y1_interp))\n",
    "    norm2 = np.sqrt(inner_product(y2_interp, y2_interp))\n",
    "\n",
    "    if norm1 == 0 or norm2 == 0:\n",
    "        raise ValueError(\"One of the waveforms has zero norm.\")\n",
    "\n",
    "    return np.abs(1 - overlap / (norm1 * norm2))\n"
   ]
  },
  {
   "cell_type": "code",
   "execution_count": 65,
   "id": "7f53b83d-d335-43dd-89d0-804bb3b734a0",
   "metadata": {},
   "outputs": [
    {
     "name": "stdout",
     "output_type": "stream",
     "text": [
      "Destination path /home/chrosmic/.cache/qnm/data-0.4.0.tar.bz2 already exists, use overwrite=True to force an overwrite.\n",
      "loading CCE data\n"
     ]
    }
   ],
   "source": [
    "BOB2 = BOB_utils.BOB()\n",
    "BOB2.initialize_with_cce_data(1)\n",
    "BOB2.what_should_BOB_create = \"news\"\n",
    "BOB2.optimize_Omega0_and_Phi0 = False"
   ]
  },
  {
   "cell_type": "code",
   "execution_count": 97,
   "id": "1ef44377-ce5e-44ad-bba8-e2d0e06b4f49",
   "metadata": {},
   "outputs": [],
   "source": [
    "t_bob_cce, y_bob_cce = BOB2.construct_BOB()\n",
    "ts_cce = kuibit_ts(t_bob_cce, y_bob_cce)\n",
    "mismatch(ts_cce, ts_cce)"
   ]
  },
  {
   "cell_type": "code",
   "execution_count": 99,
   "id": "20926de6-fe88-4971-9261-9140a616e60c",
   "metadata": {},
   "outputs": [
    {
     "name": "stdout",
     "output_type": "stream",
     "text": [
      "8.111802055638745e-17j\n"
     ]
    }
   ],
   "source": [
    "print(mismatch(ts_cce, ts_cce, t0 = t_bob_cce[0], tf = t_bob_cce[-1]))"
   ]
  },
  {
   "cell_type": "code",
   "execution_count": 76,
   "id": "5a8a7d11-78c3-4253-ae68-5da8d50d4c54",
   "metadata": {},
   "outputs": [
    {
     "data": {
      "text/plain": [
       "array([5923.66195533, 5923.76195533, 5923.86195533, ..., 6098.36195533,\n",
       "       6098.46195533, 6098.56195533])"
      ]
     },
     "execution_count": 76,
     "metadata": {},
     "output_type": "execute_result"
    }
   ],
   "source": [
    "t_bob_cce"
   ]
  },
  {
   "cell_type": "code",
   "execution_count": 68,
   "id": "4103c9ad-7907-46ed-8b56-27d0a34b72c7",
   "metadata": {},
   "outputs": [
    {
     "name": "stdout",
     "output_type": "stream",
     "text": [
      "[INFO] Saved BOB parameters to trusted_outputs/BOB_CCE1_news.npz\n"
     ]
    }
   ],
   "source": [
    "save_bob_attributes(BOB2, \"trusted_outputs/BOB_CCE1_news.npz\")"
   ]
  },
  {
   "cell_type": "code",
   "execution_count": null,
   "id": "cd98e6f1-06b4-4d8d-94a2-e9e5bf7a524b",
   "metadata": {},
   "outputs": [],
   "source": []
  }
 ],
 "metadata": {
  "kernelspec": {
   "display_name": "Python 3 (ipykernel)",
   "language": "python",
   "name": "python3"
  },
  "language_info": {
   "codemirror_mode": {
    "name": "ipython",
    "version": 3
   },
   "file_extension": ".py",
   "mimetype": "text/x-python",
   "name": "python",
   "nbconvert_exporter": "python",
   "pygments_lexer": "ipython3",
   "version": "3.10.12"
  }
 },
 "nbformat": 4,
 "nbformat_minor": 5
}
